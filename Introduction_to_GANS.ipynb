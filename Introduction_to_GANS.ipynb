{
  "nbformat": 4,
  "nbformat_minor": 0,
  "metadata": {
    "colab": {
      "provenance": []
    },
    "kernelspec": {
      "name": "python3",
      "display_name": "Python 3"
    },
    "language_info": {
      "name": "python"
    },
    "accelerator": "GPU",
    "gpuClass": "standard"
  },
  "cells": [
    {
      "cell_type": "code",
      "execution_count": null,
      "metadata": {
        "id": "von90h_yQwOf"
      },
      "outputs": [],
      "source": [
        "import torch\n",
        "import torch.nn as nn\n",
        "import torch.optim as optim\n",
        "import torchvision\n",
        "import torchvision.datasets as datasets\n",
        "from torch.utils.data import DataLoader\n",
        "import torchvision.transforms as transforms\n",
        "from torch.utils.tensorboard import SummaryWriter"
      ]
    },
    {
      "cell_type": "code",
      "source": [
        "class Discriminator(nn.Module):\n",
        "  def __init__(self, img_dim):\n",
        "    super().__init__()\n",
        "    self.disc = nn.Sequential(\n",
        "        nn.Linear(img_dim, 128),\n",
        "        nn.LeakyReLU(0.1),\n",
        "        nn.Linear(128, 1),\n",
        "        nn.Sigmoid(),\n",
        "    )\n",
        "\n",
        "  def forward(self, x):\n",
        "    return self.disc(x)"
      ],
      "metadata": {
        "id": "o-CtwLxJS_mL"
      },
      "execution_count": null,
      "outputs": []
    },
    {
      "cell_type": "code",
      "source": [
        "class Generator(nn.Module):\n",
        "  def __init__(self, z_dim, img_dim):\n",
        "    super().__init__()\n",
        "    self.gen = nn.Sequential(\n",
        "        nn.Linear(z_dim, 256),\n",
        "        nn.LeakyReLU(0.1),\n",
        "        nn.Linear(256, img_dim),\n",
        "        nn.Tanh(),\n",
        "    )\n",
        "  \n",
        "  def forward(self, x):\n",
        "    return self.gen(x)"
      ],
      "metadata": {
        "id": "CYbYe9q9S_cI"
      },
      "execution_count": null,
      "outputs": []
    },
    {
      "cell_type": "code",
      "source": [
        "# Hyperparameters etc.\n",
        "device = \"cuda\" if torch.cuda.is_available() else \"cpu\"\n",
        "lr = 3e-4\n",
        "z_dim = 64\n",
        "img_dim = 28 * 28 * 1\n",
        "batch_size = 32\n",
        "num_epochs = 50"
      ],
      "metadata": {
        "id": "j3L0p1AIUlQb"
      },
      "execution_count": null,
      "outputs": []
    },
    {
      "cell_type": "code",
      "source": [
        "disc = Discriminator(img_dim).to(device)\n",
        "gen = Generator(z_dim, img_dim).to(device)\n",
        "\n",
        "# set some fixed noise to visualize how it changes across the epochs\n",
        "fixed_noise = torch.randn((batch_size, z_dim)).to(device)\n",
        "transforms = transforms.Compose(\n",
        "    [transforms.ToTensor(), transforms.Normalize((0.1307), (0.3081))]\n",
        ")\n"
      ],
      "metadata": {
        "id": "nMG7hOadVCpn"
      },
      "execution_count": null,
      "outputs": []
    },
    {
      "cell_type": "code",
      "source": [
        "# create our dataset using MNIST dataset\n",
        "dataset = datasets.MNIST(root=\"dataset/\", transform=transforms, download=True)\n",
        "\n",
        "# creating our Data Loader\n",
        "loader = DataLoader(dataset, batch_size=batch_size, shuffle=True)\n",
        "\n",
        "# Creating our optimizers for both the generator and discriminator\n",
        "opt_disc = optim.Adam(disc.parameters(), lr=lr)\n",
        "opt_gen = optim.Adam(gen.parameters(), lr=lr)\n",
        "\n",
        "# Initializing our Loss\n",
        "criterion = nn.BCELoss()\n",
        "\n",
        "# Summary writer\n",
        "writer_fake = SummaryWriter(f\"runs/GAN_MNIST/fake\")\n",
        "writer_real = SummaryWriter(f\"runs/GAN_MNIST/real\")\n",
        "\n",
        "step = 0"
      ],
      "metadata": {
        "id": "03SMDQqiV26-"
      },
      "execution_count": null,
      "outputs": []
    },
    {
      "cell_type": "code",
      "source": [
        "# running our for loop\n",
        "\n",
        "for epoch in range(num_epochs):\n",
        "  for batch_idx, (real, _) in enumerate(loader):\n",
        "    real = real.view(-1, 784).to(device)\n",
        "    batch_size = real.shape[0] # checks for the size of the image\n",
        "\n",
        "    ### Train Discriminator: max log(D(real)) + log(1-D(G(z)))\n",
        "    noise = torch.randn(batch_size, z_dim).to(device)\n",
        "    fake = gen(noise)\n",
        "    disc_real = disc(real).view(-1)\n",
        "    lossD_real = criterion(disc_real, torch.ones_like(disc_real))\n",
        "    disc_fake = disc(fake.detach()).view(-1)\n",
        "    lossD_fake = criterion(disc_fake, torch.zeros_like(disc_fake))\n",
        "\n",
        "    lossD = (lossD_real + lossD_fake) / 2\n",
        "    disc.zero_grad()\n",
        "    lossD.backward(retain_graph=True)\n",
        "    opt_disc.step()\n",
        "\n",
        "    ### Train Generator min log(1 - D(G(z))) <--> max log(D(G(z)))\n",
        "    output = disc(fake).view(-1)\n",
        "    lossG = criterion(output, torch.ones_like(output))\n",
        "    gen.zero_grad()\n",
        "    lossG.backward()\n",
        "    opt_gen.step()\n",
        "\n",
        "    if batch_idx == 0:\n",
        "      print(\n",
        "          f\"Epoch [{epoch}/{num_epochs}] \\ \" \n",
        "          f\"Loss D: {lossD:.4f}, Loss G: {lossG:.4f}\"\n",
        "      )\n",
        "\n",
        "      with torch.no_grad():\n",
        "        fake = gen(fixed_noise).reshape(-1, 1, 28, 28)\n",
        "        data = real.reshape(-1, 1, 28, 28)\n",
        "        img_grid_fake = torchvision.utils.make_grid(fake, normalize=True)\n",
        "        img_grid_real = torchvision.utils.make_grid(data, normalize=True)\n",
        "                                                    \n",
        "        writer_fake.add_image(\n",
        "            \"Mnist Fake Images\", img_grid_fake, global_step = step\n",
        "        )\n",
        "\n",
        "        writer_real.add_image(\n",
        "            \"Mnist real Images\", img_grid_real, global_step = step\n",
        "        )\n",
        "\n",
        "        step += 1"
      ],
      "metadata": {
        "colab": {
          "base_uri": "https://localhost:8080/"
        },
        "id": "t88WAz4bXPwG",
        "outputId": "17d502be-6224-47cf-e89a-e6d9f1eb94bb"
      },
      "execution_count": null,
      "outputs": [
        {
          "output_type": "stream",
          "name": "stdout",
          "text": [
            "Epoch [0/50] \\ Loss D: 0.6573, Loss G: 0.7609\n",
            "Epoch [1/50] \\ Loss D: 0.1260, Loss G: 2.1976\n",
            "Epoch [2/50] \\ Loss D: 0.1183, Loss G: 2.7656\n",
            "Epoch [3/50] \\ Loss D: 0.0713, Loss G: 3.7644\n",
            "Epoch [4/50] \\ Loss D: 0.0389, Loss G: 3.6778\n",
            "Epoch [5/50] \\ Loss D: 0.0424, Loss G: 4.7287\n",
            "Epoch [6/50] \\ Loss D: 0.0810, Loss G: 3.3799\n",
            "Epoch [7/50] \\ Loss D: 0.0121, Loss G: 4.7322\n",
            "Epoch [8/50] \\ Loss D: 0.0166, Loss G: 4.4796\n",
            "Epoch [9/50] \\ Loss D: 0.0142, Loss G: 6.2963\n",
            "Epoch [10/50] \\ Loss D: 0.0290, Loss G: 5.6075\n",
            "Epoch [11/50] \\ Loss D: 0.0300, Loss G: 5.4060\n",
            "Epoch [12/50] \\ Loss D: 0.0628, Loss G: 6.2847\n",
            "Epoch [13/50] \\ Loss D: 0.0056, Loss G: 6.6035\n",
            "Epoch [14/50] \\ Loss D: 0.0102, Loss G: 6.6843\n"
          ]
        }
      ]
    },
    {
      "cell_type": "code",
      "source": [
        "# Proposed Improvements\n",
        "# 1. Try using a larger network?\n",
        "# 2. Better Normalization with BatchNorm\n",
        "# 3. Better learning rate?\n",
        "# 4. Change architecture to a CNN"
      ],
      "metadata": {
        "id": "-y9z7zxrbI2v"
      },
      "execution_count": null,
      "outputs": []
    },
    {
      "cell_type": "markdown",
      "source": [],
      "metadata": {
        "id": "qfrnuxlKbSd-"
      }
    }
  ]
}