{
  "nbformat": 4,
  "nbformat_minor": 0,
  "metadata": {
    "colab": {
      "provenance": [],
      "authorship_tag": "ABX9TyOUgFoJ82+Wu9QYE0PkvElm",
      "include_colab_link": true
    },
    "kernelspec": {
      "name": "python3",
      "display_name": "Python 3"
    },
    "language_info": {
      "name": "python"
    },
    "accelerator": "GPU",
    "gpuClass": "standard"
  },
  "cells": [
    {
      "cell_type": "markdown",
      "metadata": {
        "id": "view-in-github",
        "colab_type": "text"
      },
      "source": [
        "<a href=\"https://colab.research.google.com/github/manny-uncharted/pytorch-projects-learnings/blob/main/Pytorch_recap.ipynb\" target=\"_parent\"><img src=\"https://colab.research.google.com/assets/colab-badge.svg\" alt=\"Open In Colab\"/></a>"
      ]
    },
    {
      "cell_type": "code",
      "execution_count": 2,
      "metadata": {
        "id": "TrKlBzPWdTHJ"
      },
      "outputs": [],
      "source": [
        "import torch"
      ]
    },
    {
      "cell_type": "markdown",
      "source": [
        "# Initializing tensors"
      ],
      "metadata": {
        "id": "mW45vTNEefEp"
      }
    },
    {
      "cell_type": "code",
      "source": [
        "## Initializing Tensors\n",
        "device = \"cuda\" if torch.cuda.is_available() else \"cpu\"\n",
        "my_tensor = torch.tensor([[1, 2, 3], [4, 5, 6]], dtype=torch.float32,\n",
        "                         device=device, requires_grad=True)\n",
        "\n",
        "print(my_tensor)\n",
        "\n",
        "# Attributes of tensor\n",
        "print(my_tensor.dtype)\n",
        "print(my_tensor.device)\n",
        "print(my_tensor.shape)\n",
        "print(my_tensor.requires_grad)"
      ],
      "metadata": {
        "colab": {
          "base_uri": "https://localhost:8080/"
        },
        "id": "YLjA9gcbdieo",
        "outputId": "d3b926ed-b2ae-45a1-cf16-a0c7104d419c"
      },
      "execution_count": null,
      "outputs": [
        {
          "output_type": "stream",
          "name": "stdout",
          "text": [
            "tensor([[1., 2., 3.],\n",
            "        [4., 5., 6.]], device='cuda:0', requires_grad=True)\n",
            "torch.float32\n",
            "cuda:0\n",
            "torch.Size([2, 3])\n",
            "True\n"
          ]
        }
      ]
    },
    {
      "cell_type": "code",
      "source": [
        "# Other common initialization methods\n",
        "x = torch.empty(size = (3, 3)) # creates a random uninitialized tensors of size 3 * 3\n",
        "print(x)\n",
        "y = torch.zeros((3, 3)) # creates a 3 * 3 matrix of zeros\n",
        "print(y)\n",
        "z = torch.rand((3, 3)) # creates a 3 * 3 from a uniform distribution with values between zeros and one\n",
        "print(z)\n",
        "\n",
        "w = torch.ones((3, 3)) # creates a 3 * 3 matrix of ones\n",
        "print(w)\n",
        "\n",
        "v = torch.eye(5, 5) # creates an identity matrix with % * 5 dimensions\n",
        "print(v)"
      ],
      "metadata": {
        "colab": {
          "base_uri": "https://localhost:8080/"
        },
        "id": "yov5aB06diaO",
        "outputId": "cbb4df51-9242-476b-bfee-98712a143536"
      },
      "execution_count": null,
      "outputs": [
        {
          "output_type": "stream",
          "name": "stdout",
          "text": [
            "tensor([[-3.5746e-14,  4.5759e-41,  1.3173e-34],\n",
            "        [ 0.0000e+00,  1.0000e+00,  1.0000e+00],\n",
            "        [ 1.0000e+00,  1.0000e+00,  6.7262e-44]])\n",
            "tensor([[0., 0., 0.],\n",
            "        [0., 0., 0.],\n",
            "        [0., 0., 0.]])\n",
            "tensor([[0.1582, 0.2864, 0.1346],\n",
            "        [0.5093, 0.3991, 0.4289],\n",
            "        [0.5821, 0.8192, 0.5512]])\n",
            "tensor([[1., 1., 1.],\n",
            "        [1., 1., 1.],\n",
            "        [1., 1., 1.]])\n",
            "tensor([[1., 0., 0., 0., 0.],\n",
            "        [0., 1., 0., 0., 0.],\n",
            "        [0., 0., 1., 0., 0.],\n",
            "        [0., 0., 0., 1., 0.],\n",
            "        [0., 0., 0., 0., 1.]])\n"
          ]
        }
      ]
    },
    {
      "cell_type": "code",
      "source": [
        "x = torch.arange(start=0, end=5, step=1) \n",
        "print(x)\n",
        "\n",
        "y = torch.linspace(start=0.1, end=1, steps=10)\n",
        "print(y)"
      ],
      "metadata": {
        "colab": {
          "base_uri": "https://localhost:8080/"
        },
        "id": "0H4MEwb_diVN",
        "outputId": "c0310e4c-5a2c-4e62-8109-44c34a19b7c0"
      },
      "execution_count": null,
      "outputs": [
        {
          "output_type": "stream",
          "name": "stdout",
          "text": [
            "tensor([0, 1, 2, 3, 4])\n",
            "tensor([0.1000, 0.2000, 0.3000, 0.4000, 0.5000, 0.6000, 0.7000, 0.8000, 0.9000,\n",
            "        1.0000])\n"
          ]
        }
      ]
    },
    {
      "cell_type": "code",
      "source": [
        "x = torch.empty(size=(1, 5)).normal_(mean=0, std=1)\n",
        "print(x)\n",
        "\n",
        "y = torch.empty(size=(1, 5)).uniform_(0, 1)\n",
        "print(y)"
      ],
      "metadata": {
        "colab": {
          "base_uri": "https://localhost:8080/"
        },
        "id": "r9xo0tpZdiRn",
        "outputId": "f143f963-837c-456a-bce2-fd9a3243a3fd"
      },
      "execution_count": null,
      "outputs": [
        {
          "output_type": "stream",
          "name": "stdout",
          "text": [
            "tensor([[ 0.6070, -1.7468,  0.1833, -0.0626,  1.5187]])\n",
            "tensor([[0.6353, 0.1593, 0.0898, 0.4705, 0.2297]])\n"
          ]
        }
      ]
    },
    {
      "cell_type": "code",
      "source": [
        "x = torch.diag(torch.ones(3)) # creates a diagonal 3 * 3 matrix\n",
        "print(x)"
      ],
      "metadata": {
        "colab": {
          "base_uri": "https://localhost:8080/"
        },
        "id": "0V8qstCGdiOs",
        "outputId": "1c4f75d5-3a1f-4619-cc24-6ac27f9c5b54"
      },
      "execution_count": null,
      "outputs": [
        {
          "output_type": "stream",
          "name": "stdout",
          "text": [
            "tensor([[1., 0., 0.],\n",
            "        [0., 1., 0.],\n",
            "        [0., 0., 1.]])\n"
          ]
        }
      ]
    },
    {
      "cell_type": "markdown",
      "source": [
        "## Converting tensors to other types"
      ],
      "metadata": {
        "id": "NvZoDbCFgrWU"
      }
    },
    {
      "cell_type": "code",
      "source": [
        "# Initializing and converting tensors from one type to another (int, float, double)\n",
        "\n",
        "tensor = torch.arange(4)\n",
        "print(tensor.bool()) # boolean True/False\n",
        "print(tensor.short()) # int16\n",
        "print(tensor.long()) #int64 (Important)\n",
        "print(tensor.half()) # float16\n",
        "print(tensor.float()) # float32 (Important)\n",
        "print(tensor.double()) # float64"
      ],
      "metadata": {
        "colab": {
          "base_uri": "https://localhost:8080/"
        },
        "id": "gb5Kn4eJdjKc",
        "outputId": "fdbc2ed3-a81c-458b-b4a7-63819a91239f"
      },
      "execution_count": null,
      "outputs": [
        {
          "output_type": "stream",
          "name": "stdout",
          "text": [
            "tensor([False,  True,  True,  True])\n",
            "tensor([0, 1, 2, 3], dtype=torch.int16)\n",
            "tensor([0, 1, 2, 3])\n",
            "tensor([0., 1., 2., 3.], dtype=torch.float16)\n",
            "tensor([0., 1., 2., 3.])\n",
            "tensor([0., 1., 2., 3.], dtype=torch.float64)\n"
          ]
        }
      ]
    },
    {
      "cell_type": "code",
      "source": [
        "# Numpy Array to Tensor conversion and vice-versa\n",
        "\n",
        "import numpy as np\n",
        "\n",
        "np_array = np.zeros((5, 5))\n",
        "tensor = torch.from_numpy(np_array)\n",
        "np_array_back = tensor.numpy()"
      ],
      "metadata": {
        "id": "e3M-65ftdjFd"
      },
      "execution_count": null,
      "outputs": []
    },
    {
      "cell_type": "markdown",
      "source": [
        "# Tensor Math & Comparison Operations"
      ],
      "metadata": {
        "id": "hSKIbOK9gtCT"
      }
    },
    {
      "cell_type": "code",
      "source": [
        "x = torch.tensor([1, 2, 3])\n",
        "y = torch.tensor([4, 5, 6])\n",
        "\n",
        "\n",
        "# Addition\n",
        "z1 = torch.empty(3)\n",
        "torch.add(x, y, out=z1)\n",
        "print(z1)\n",
        "z2 = torch.add(x, y)\n",
        "print(z2)\n",
        "z = x + y\n",
        "print(z)\n",
        "\n",
        "\n",
        "# Subtraction\n",
        "z = x - y\n",
        "\n",
        "# Division\n",
        "z = torch.true_divide(x, y) # performs element-wise division if their size are same\n",
        "\n",
        "# inplace operations\n",
        "t = torch.zeros(3)\n",
        "t.add_(x)\n",
        "t += x # t = t + x\n",
        "\n",
        "# Exponentiation\n",
        "z = x.pow(2)\n",
        "print(z)\n",
        "\n",
        "z = x ** 2\n",
        "\n",
        "\n",
        "# Simple Comparison\n",
        "z = x > 0\n",
        "z = x < 0\n",
        "\n",
        "# Matrix multiplication\n",
        "x1 = torch.rand((2, 5))\n",
        "x2 = torch.rand((5, 3))\n",
        "x3 = torch.mm(x1, x2) # 2x3 matrix\n",
        "x3 = x1.mm(x2)\n",
        "\n",
        "\n",
        "# matrix exponentiation\n",
        "matrix_exp = torch.rand(5, 5)\n",
        "print(matrix_exp.matrix_power(3))\n",
        "\n",
        "\n",
        "# Element-wise multiplication\n",
        "z = x * y\n",
        "print(z)\n",
        "\n",
        "# dot product \n",
        "z = torch.dot(x, y)\n",
        "print(z)\n",
        "\n",
        "# Batch Matrix Multiplication\n",
        "batch = 32\n",
        "n = 10\n",
        "m = 20\n",
        "p = 30\n",
        "\n",
        "tensor1 = torch.rand((batch, n, m))\n",
        "tensor2 = torch.rand((batch, m, p))\n",
        "out_bmm = torch.bmm(tensor1, tensor2)\n",
        "print(out_bmm)"
      ],
      "metadata": {
        "id": "7htGKZWXiVEY",
        "outputId": "b76b63a6-9a13-4350-884e-cd8ead03e202",
        "colab": {
          "base_uri": "https://localhost:8080/"
        }
      },
      "execution_count": 8,
      "outputs": [
        {
          "output_type": "stream",
          "name": "stdout",
          "text": [
            "tensor([5., 7., 9.])\n",
            "tensor([5, 7, 9])\n",
            "tensor([5, 7, 9])\n",
            "tensor([1, 4, 9])\n",
            "tensor([[2.0914, 1.6948, 2.4028, 0.6488, 2.6376],\n",
            "        [2.5472, 2.3342, 3.2217, 0.8609, 3.6544],\n",
            "        [3.2233, 2.7068, 3.8097, 1.0128, 4.1922],\n",
            "        [2.5747, 2.0244, 2.8953, 0.7851, 3.1073],\n",
            "        [4.1757, 3.5411, 4.9724, 1.3358, 5.5001]])\n",
            "tensor([ 4, 10, 18])\n",
            "tensor(32)\n",
            "tensor([[[5.3617, 5.3127, 4.8557,  ..., 4.8944, 3.9599, 5.5028],\n",
            "         [4.9910, 4.7527, 4.3590,  ..., 4.7295, 4.0976, 4.5488],\n",
            "         [4.6596, 4.5119, 3.8936,  ..., 4.0102, 4.4042, 4.9218],\n",
            "         ...,\n",
            "         [5.7613, 5.1051, 4.8093,  ..., 4.5556, 5.6012, 5.3501],\n",
            "         [7.2698, 6.7666, 6.0463,  ..., 5.9543, 5.4576, 7.0971],\n",
            "         [6.5333, 6.3881, 5.8086,  ..., 5.1771, 5.0570, 6.1548]],\n",
            "\n",
            "        [[4.9606, 4.0065, 4.0986,  ..., 4.1182, 4.3984, 4.3587],\n",
            "         [5.4848, 4.3625, 3.6621,  ..., 3.9034, 5.6189, 4.4960],\n",
            "         [4.3939, 3.6843, 4.1462,  ..., 3.6537, 4.3550, 4.0922],\n",
            "         ...,\n",
            "         [5.2752, 4.6105, 4.4072,  ..., 4.1228, 5.4162, 4.7688],\n",
            "         [6.0855, 4.5537, 4.8658,  ..., 4.5914, 5.6890, 4.6677],\n",
            "         [5.2366, 4.4482, 4.2312,  ..., 4.1847, 4.7418, 4.6258]],\n",
            "\n",
            "        [[5.4982, 4.9225, 5.7348,  ..., 4.6792, 3.7732, 5.3387],\n",
            "         [5.7127, 4.7135, 4.7968,  ..., 3.6615, 4.3801, 4.5101],\n",
            "         [4.9231, 4.7482, 4.8488,  ..., 4.2410, 3.7455, 5.1637],\n",
            "         ...,\n",
            "         [6.2788, 5.8560, 5.4591,  ..., 4.6870, 4.8948, 5.6089],\n",
            "         [5.4602, 4.5818, 4.6894,  ..., 3.7797, 4.3567, 4.8351],\n",
            "         [7.1270, 6.1959, 6.7737,  ..., 5.2437, 5.3994, 6.9278]],\n",
            "\n",
            "        ...,\n",
            "\n",
            "        [[4.2381, 5.9770, 4.7150,  ..., 5.2358, 5.9996, 4.7185],\n",
            "         [4.6600, 6.0082, 5.5476,  ..., 5.4436, 6.0126, 4.7887],\n",
            "         [3.8493, 4.4752, 4.6635,  ..., 4.2126, 5.3401, 4.1942],\n",
            "         ...,\n",
            "         [3.5332, 5.3470, 5.4553,  ..., 4.8887, 6.0268, 4.1499],\n",
            "         [3.3724, 4.8161, 5.1288,  ..., 4.6319, 5.4022, 4.0914],\n",
            "         [3.5490, 5.5941, 5.6286,  ..., 4.6005, 5.5969, 4.5080]],\n",
            "\n",
            "        [[3.4946, 4.3360, 4.2768,  ..., 4.6984, 4.2727, 4.6838],\n",
            "         [5.1715, 5.2059, 4.5003,  ..., 5.1891, 5.1303, 5.3140],\n",
            "         [4.7531, 3.9158, 3.7618,  ..., 4.6933, 4.4009, 4.8644],\n",
            "         ...,\n",
            "         [6.1873, 6.0763, 5.7592,  ..., 6.3295, 5.9028, 6.6644],\n",
            "         [4.1821, 4.4164, 4.8615,  ..., 4.2866, 4.9044, 5.2903],\n",
            "         [5.4724, 5.5330, 4.9898,  ..., 5.4031, 5.4666, 6.1685]],\n",
            "\n",
            "        [[3.6384, 4.2075, 4.1020,  ..., 5.2422, 5.1164, 5.9107],\n",
            "         [5.3578, 6.2760, 6.0313,  ..., 5.3573, 5.8574, 6.5997],\n",
            "         [4.7725, 5.1954, 5.4440,  ..., 5.0103, 4.5073, 5.2814],\n",
            "         ...,\n",
            "         [4.1463, 5.4756, 5.0091,  ..., 5.4990, 5.0615, 5.7068],\n",
            "         [4.9050, 5.7233, 5.6331,  ..., 6.7892, 5.7092, 7.2060],\n",
            "         [3.6641, 4.8173, 4.3265,  ..., 4.7252, 4.4538, 4.5884]]])\n"
          ]
        }
      ]
    },
    {
      "cell_type": "code",
      "source": [
        "# Example of Broadcasting: Automatically expands unequal matrices so that they match\n",
        "x1 = torch.rand((5, 5))\n",
        "x2 = torch.rand((1, 5))\n",
        "\n",
        "z = x1 - x2\n",
        "z = x1 ** x2\n",
        "print(z)"
      ],
      "metadata": {
        "id": "o23__w6nnGaN",
        "outputId": "8b6d7887-eacf-4900-dbad-af0e80089d1b",
        "colab": {
          "base_uri": "https://localhost:8080/"
        }
      },
      "execution_count": 9,
      "outputs": [
        {
          "output_type": "stream",
          "name": "stdout",
          "text": [
            "tensor([[0.0315, 0.9373, 0.7791, 0.9290, 0.8424],\n",
            "        [0.8208, 0.9875, 0.7648, 0.8564, 0.5132],\n",
            "        [0.4989, 0.9645, 0.8303, 0.7341, 0.8150],\n",
            "        [0.9927, 0.9680, 0.6033, 0.7949, 0.2234],\n",
            "        [0.7914, 0.9048, 0.5890, 0.1702, 0.6337]])\n"
          ]
        }
      ]
    },
    {
      "cell_type": "code",
      "source": [
        "# Other useful tensor operations\n",
        "\n",
        "sum_x = torch.sum(x, dim=0)\n",
        "values, indices = torch.max(x, dim=0)\n",
        "values, indices = torch.min(x, dim=0)\n",
        "abs_x = torch.abs(x)\n",
        "z = torch.argmax(x, dim=0)\n",
        "z = torch.argmin(x, dim=0)\n",
        "\n",
        "mean_x = torch.mean(x.float(), dim=0)\n",
        "z = torch.eq(x, y)\n",
        "print(z)\n",
        "\n",
        "sorted_y, indices = torch.sort(y, dim=0, descending=False)\n",
        "\n",
        "z = torch.clamp(x, min=0)\n",
        "print(z)\n",
        "\n",
        "w = torch.tensor([1, 0, 1, 1, 1], dtype=torch.bool)\n",
        "z = torch.any(w)\n",
        "z = torch.all(w)\n",
        "print(z)"
      ],
      "metadata": {
        "id": "S1vhVRy_ng3u",
        "outputId": "27051be1-6cec-4972-f694-63b285b261cb",
        "colab": {
          "base_uri": "https://localhost:8080/"
        }
      },
      "execution_count": 16,
      "outputs": [
        {
          "output_type": "stream",
          "name": "stdout",
          "text": [
            "tensor([False, False, False])\n",
            "tensor([1, 2, 3])\n",
            "tensor(False)\n"
          ]
        }
      ]
    },
    {
      "cell_type": "markdown",
      "source": [
        "# Tensor Indexing"
      ],
      "metadata": {
        "id": "9SnR_EmLo7UG"
      }
    },
    {
      "cell_type": "code",
      "source": [
        "batch_size = 10 \n",
        "features = 25\n",
        "\n",
        "x = torch.rand((batch_size, features))\n",
        "\n",
        "# Getting the features of the first example\n",
        "print(x[0].shape) # x[0, :]\n",
        "\n",
        "# Getting the first feature of all our samples\n",
        "print(x[:, 0].shape)\n",
        "\n",
        "# Get the 3rd example in the batch and the first 10 features\n",
        "print(x[2, 0:10]) \n",
        "\n",
        "x[0, 0] = 100\n",
        "\n",
        "# Fancy Indexing\n",
        "x = torch.arange(10)\n",
        "indices = [2, 5, 8]\n",
        "print(x[indices])\n",
        "\n",
        "x = torch.rand((3, 5))\n",
        "rows = torch.tensor([1, 0])\n",
        "cols = torch.tensor([4, 0])\n",
        "print(x[rows, cols])\n",
        "\n",
        "# More advanced indexing\n",
        "x = torch.arange(10)\n",
        "print(x[(x < 2) & (x > 8)])\n",
        "print(x[x.remainder(2) == 0])\n",
        "\n",
        "\n",
        "# Useful Operations\n",
        "print(torch.where(x > 5, x, x * 2))\n",
        "print(torch.tensor([0, 0, 1, 2, 3, 4]).unique())\n",
        "print(x.ndimension())\n",
        "print(x.numel())"
      ],
      "metadata": {
        "id": "2jC1yD2JpAW5",
        "outputId": "0e6667c8-8978-4cf6-854d-0edc283f7923",
        "colab": {
          "base_uri": "https://localhost:8080/"
        }
      },
      "execution_count": 25,
      "outputs": [
        {
          "output_type": "stream",
          "name": "stdout",
          "text": [
            "torch.Size([25])\n",
            "torch.Size([10])\n",
            "tensor([0.5295, 0.7572, 0.5522, 0.2537, 0.1381, 0.6062, 0.0043, 0.0474, 0.6311,\n",
            "        0.6092])\n",
            "tensor([2, 5, 8])\n",
            "tensor([0.7601, 0.2324])\n",
            "tensor([], dtype=torch.int64)\n",
            "tensor([0, 2, 4, 6, 8])\n",
            "tensor([ 0,  2,  4,  6,  8, 10,  6,  7,  8,  9])\n",
            "tensor([0, 1, 2, 3, 4])\n",
            "1\n",
            "10\n"
          ]
        }
      ]
    },
    {
      "cell_type": "markdown",
      "source": [
        "# Tensor Reshaping"
      ],
      "metadata": {
        "id": "d4d5VOQGrUAn"
      }
    },
    {
      "cell_type": "code",
      "source": [
        "x = torch.arange(9)\n",
        "x_3x3 = x.view(3, 3)\n",
        "print(x_3x3)\n",
        "x_3x3 = x.reshape(3, 3)\n",
        "\n",
        "\n",
        "y = x_3x3.t()\n",
        "print(y)\n",
        "print(y.contiguous().view(9))\n",
        "\n",
        "x1 = torch.rand((2, 5))\n",
        "x2 = torch.rand((2, 5))\n",
        "print(torch.cat((x1, x2), dim=0).shape)\n",
        "print(torch.cat((x1, x2), dim=1).shape)\n",
        "\n",
        "z = x1.view(-1)\n",
        "print(z.shape)\n",
        "\n",
        "batch = 64\n",
        "x = torch.rand((batch, 2, 5))\n",
        "z = x.view(batch, -1)\n",
        "print(z.shape)\n",
        "\n",
        "z = x.permute(0, 2, 1)\n",
        "print(z.shape)\n",
        "\n",
        "x = torch.arange(10)\n",
        "print(x.unsqueeze(0).shape)\n",
        "print(x.unsqueeze(1).shape)\n",
        "\n",
        "x = torch.arange(10).unsqueeze(0).unsqueeze(1) # 1x1x10\n",
        "z = x.squeeze(1)\n",
        "print(z.shape)"
      ],
      "metadata": {
        "id": "63rghhdXrWmn",
        "outputId": "f70913bc-09bf-4f4d-b7b3-8bfd727539fc",
        "colab": {
          "base_uri": "https://localhost:8080/"
        }
      },
      "execution_count": 33,
      "outputs": [
        {
          "output_type": "stream",
          "name": "stdout",
          "text": [
            "tensor([[0, 1, 2],\n",
            "        [3, 4, 5],\n",
            "        [6, 7, 8]])\n",
            "tensor([[0, 3, 6],\n",
            "        [1, 4, 7],\n",
            "        [2, 5, 8]])\n",
            "tensor([0, 3, 6, 1, 4, 7, 2, 5, 8])\n",
            "torch.Size([4, 5])\n",
            "torch.Size([2, 10])\n",
            "torch.Size([10])\n",
            "torch.Size([64, 10])\n",
            "torch.Size([64, 5, 2])\n",
            "torch.Size([1, 10])\n",
            "torch.Size([10, 1])\n",
            "torch.Size([1, 10])\n"
          ]
        }
      ]
    }
  ]
}