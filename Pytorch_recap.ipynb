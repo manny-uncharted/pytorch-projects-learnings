{
  "nbformat": 4,
  "nbformat_minor": 0,
  "metadata": {
    "colab": {
      "provenance": [],
      "authorship_tag": "ABX9TyNHsxuvFD2KCeLK67KkYVmd",
      "include_colab_link": true
    },
    "kernelspec": {
      "name": "python3",
      "display_name": "Python 3"
    },
    "language_info": {
      "name": "python"
    },
    "accelerator": "GPU",
    "gpuClass": "standard"
  },
  "cells": [
    {
      "cell_type": "markdown",
      "metadata": {
        "id": "view-in-github",
        "colab_type": "text"
      },
      "source": [
        "<a href=\"https://colab.research.google.com/github/manny-uncharted/pytorch-projects-learnings/blob/main/Pytorch_recap.ipynb\" target=\"_parent\"><img src=\"https://colab.research.google.com/assets/colab-badge.svg\" alt=\"Open In Colab\"/></a>"
      ]
    },
    {
      "cell_type": "code",
      "execution_count": 1,
      "metadata": {
        "id": "TrKlBzPWdTHJ"
      },
      "outputs": [],
      "source": [
        "import torch"
      ]
    },
    {
      "cell_type": "markdown",
      "source": [
        "# Initializing tensors"
      ],
      "metadata": {
        "id": "mW45vTNEefEp"
      }
    },
    {
      "cell_type": "code",
      "source": [
        "## Initializing Tensors\n",
        "device = \"cuda\" if torch.cuda.is_available() else \"cpu\"\n",
        "my_tensor = torch.tensor([[1, 2, 3], [4, 5, 6]], dtype=torch.float32,\n",
        "                         device=device, requires_grad=True)\n",
        "\n",
        "print(my_tensor)\n",
        "\n",
        "# Attributes of tensor\n",
        "print(my_tensor.dtype)\n",
        "print(my_tensor.device)\n",
        "print(my_tensor.shape)\n",
        "print(my_tensor.requires_grad)"
      ],
      "metadata": {
        "colab": {
          "base_uri": "https://localhost:8080/"
        },
        "id": "YLjA9gcbdieo",
        "outputId": "d3b926ed-b2ae-45a1-cf16-a0c7104d419c"
      },
      "execution_count": 5,
      "outputs": [
        {
          "output_type": "stream",
          "name": "stdout",
          "text": [
            "tensor([[1., 2., 3.],\n",
            "        [4., 5., 6.]], device='cuda:0', requires_grad=True)\n",
            "torch.float32\n",
            "cuda:0\n",
            "torch.Size([2, 3])\n",
            "True\n"
          ]
        }
      ]
    },
    {
      "cell_type": "code",
      "source": [
        "# Other common initialization methods\n",
        "x = torch.empty(size = (3, 3)) # creates a random uninitialized tensors of size 3 * 3\n",
        "print(x)\n",
        "y = torch.zeros((3, 3)) # creates a 3 * 3 matrix of zeros\n",
        "print(y)\n",
        "z = torch.rand((3, 3)) # creates a 3 * 3 from a uniform distribution with values between zeros and one\n",
        "print(z)\n",
        "\n",
        "w = torch.ones((3, 3)) # creates a 3 * 3 matrix of ones\n",
        "print(w)\n",
        "\n",
        "v = torch.eye(5, 5) # creates an identity matrix with % * 5 dimensions\n",
        "print(v)"
      ],
      "metadata": {
        "colab": {
          "base_uri": "https://localhost:8080/"
        },
        "id": "yov5aB06diaO",
        "outputId": "cbb4df51-9242-476b-bfee-98712a143536"
      },
      "execution_count": 8,
      "outputs": [
        {
          "output_type": "stream",
          "name": "stdout",
          "text": [
            "tensor([[-3.5746e-14,  4.5759e-41,  1.3173e-34],\n",
            "        [ 0.0000e+00,  1.0000e+00,  1.0000e+00],\n",
            "        [ 1.0000e+00,  1.0000e+00,  6.7262e-44]])\n",
            "tensor([[0., 0., 0.],\n",
            "        [0., 0., 0.],\n",
            "        [0., 0., 0.]])\n",
            "tensor([[0.1582, 0.2864, 0.1346],\n",
            "        [0.5093, 0.3991, 0.4289],\n",
            "        [0.5821, 0.8192, 0.5512]])\n",
            "tensor([[1., 1., 1.],\n",
            "        [1., 1., 1.],\n",
            "        [1., 1., 1.]])\n",
            "tensor([[1., 0., 0., 0., 0.],\n",
            "        [0., 1., 0., 0., 0.],\n",
            "        [0., 0., 1., 0., 0.],\n",
            "        [0., 0., 0., 1., 0.],\n",
            "        [0., 0., 0., 0., 1.]])\n"
          ]
        }
      ]
    },
    {
      "cell_type": "code",
      "source": [
        "x = torch.arange(start=0, end=5, step=1) \n",
        "print(x)\n",
        "\n",
        "y = torch.linspace(start=0.1, end=1, steps=10)\n",
        "print(y)"
      ],
      "metadata": {
        "colab": {
          "base_uri": "https://localhost:8080/"
        },
        "id": "0H4MEwb_diVN",
        "outputId": "c0310e4c-5a2c-4e62-8109-44c34a19b7c0"
      },
      "execution_count": 10,
      "outputs": [
        {
          "output_type": "stream",
          "name": "stdout",
          "text": [
            "tensor([0, 1, 2, 3, 4])\n",
            "tensor([0.1000, 0.2000, 0.3000, 0.4000, 0.5000, 0.6000, 0.7000, 0.8000, 0.9000,\n",
            "        1.0000])\n"
          ]
        }
      ]
    },
    {
      "cell_type": "code",
      "source": [
        "x = torch.empty(size=(1, 5)).normal_(mean=0, std=1)\n",
        "print(x)\n",
        "\n",
        "y = torch.empty(size=(1, 5)).uniform_(0, 1)\n",
        "print(y)"
      ],
      "metadata": {
        "colab": {
          "base_uri": "https://localhost:8080/"
        },
        "id": "r9xo0tpZdiRn",
        "outputId": "f143f963-837c-456a-bce2-fd9a3243a3fd"
      },
      "execution_count": 11,
      "outputs": [
        {
          "output_type": "stream",
          "name": "stdout",
          "text": [
            "tensor([[ 0.6070, -1.7468,  0.1833, -0.0626,  1.5187]])\n",
            "tensor([[0.6353, 0.1593, 0.0898, 0.4705, 0.2297]])\n"
          ]
        }
      ]
    },
    {
      "cell_type": "code",
      "source": [
        "x = torch.diag(torch.ones(3)) # creates a diagonal 3 * 3 matrix\n",
        "print(x)"
      ],
      "metadata": {
        "colab": {
          "base_uri": "https://localhost:8080/"
        },
        "id": "0V8qstCGdiOs",
        "outputId": "1c4f75d5-3a1f-4619-cc24-6ac27f9c5b54"
      },
      "execution_count": 12,
      "outputs": [
        {
          "output_type": "stream",
          "name": "stdout",
          "text": [
            "tensor([[1., 0., 0.],\n",
            "        [0., 1., 0.],\n",
            "        [0., 0., 1.]])\n"
          ]
        }
      ]
    },
    {
      "cell_type": "markdown",
      "source": [
        "## Converting tensors to other types"
      ],
      "metadata": {
        "id": "NvZoDbCFgrWU"
      }
    },
    {
      "cell_type": "code",
      "source": [
        "# Initializing and converting tensors from one type to another (int, float, double)\n",
        "\n",
        "tensor = torch.arange(4)\n",
        "print(tensor.bool()) # boolean True/False\n",
        "print(tensor.short()) # int16\n",
        "print(tensor.long()) #int64 (Important)\n",
        "print(tensor.half()) # float16\n",
        "print(tensor.float()) # float32 (Important)\n",
        "print(tensor.double()) # float64"
      ],
      "metadata": {
        "colab": {
          "base_uri": "https://localhost:8080/"
        },
        "id": "gb5Kn4eJdjKc",
        "outputId": "fdbc2ed3-a81c-458b-b4a7-63819a91239f"
      },
      "execution_count": 16,
      "outputs": [
        {
          "output_type": "stream",
          "name": "stdout",
          "text": [
            "tensor([False,  True,  True,  True])\n",
            "tensor([0, 1, 2, 3], dtype=torch.int16)\n",
            "tensor([0, 1, 2, 3])\n",
            "tensor([0., 1., 2., 3.], dtype=torch.float16)\n",
            "tensor([0., 1., 2., 3.])\n",
            "tensor([0., 1., 2., 3.], dtype=torch.float64)\n"
          ]
        }
      ]
    },
    {
      "cell_type": "code",
      "source": [
        "# Numpy Array to Tensor conversion and vice-versa\n",
        "\n",
        "import numpy as np\n",
        "\n",
        "np_array = np.zeros((5, 5))\n",
        "tensor = torch.from_numpy(np_array)\n",
        "np_array_back = tensor.numpy()"
      ],
      "metadata": {
        "id": "e3M-65ftdjFd"
      },
      "execution_count": 17,
      "outputs": []
    },
    {
      "cell_type": "markdown",
      "source": [
        "# Tensor Math & Comparison Operations"
      ],
      "metadata": {
        "id": "hSKIbOK9gtCT"
      }
    },
    {
      "cell_type": "code",
      "source": [],
      "metadata": {
        "id": "7htGKZWXiVEY"
      },
      "execution_count": null,
      "outputs": []
    }
  ]
}